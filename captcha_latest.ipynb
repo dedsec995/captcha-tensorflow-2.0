{
  "cells": [
    {
      "cell_type": "markdown",
      "metadata": {
        "id": "dLXPzXB-kVP3"
      },
      "source": [
        "Data Generation"
      ]
    },
    {
      "cell_type": "code",
      "execution_count": null,
      "metadata": {
        "colab": {
          "base_uri": "https://localhost:8080/"
        },
        "id": "p49f100Dkrxd",
        "outputId": "8b28681f-5202-49b2-8249-14493d08fadd"
      },
      "outputs": [
        {
          "name": "stdout",
          "output_type": "stream",
          "text": [
            "Looking in indexes: https://pypi.org/simple, https://us-python.pkg.dev/colab-wheels/public/simple/\n",
            "Collecting captcha\n",
            "  Downloading captcha-0.4-py3-none-any.whl (102 kB)\n",
            "\u001b[2K     \u001b[90m━━━━━━━━━━━━━━━━━━━━━━━━━━━━━━━━━━━━━━━\u001b[0m \u001b[32m102.5/102.5 kB\u001b[0m \u001b[31m4.1 MB/s\u001b[0m eta \u001b[36m0:00:00\u001b[0m\n",
            "\u001b[?25hRequirement already satisfied: pillow in /usr/local/lib/python3.10/dist-packages (8.4.0)\n",
            "Requirement already satisfied: seaborn in /usr/local/lib/python3.10/dist-packages (0.12.2)\n",
            "Requirement already satisfied: numpy!=1.24.0,>=1.17 in /usr/local/lib/python3.10/dist-packages (from seaborn) (1.22.4)\n",
            "Requirement already satisfied: pandas>=0.25 in /usr/local/lib/python3.10/dist-packages (from seaborn) (1.5.3)\n",
            "Requirement already satisfied: matplotlib!=3.6.1,>=3.1 in /usr/local/lib/python3.10/dist-packages (from seaborn) (3.7.1)\n",
            "Requirement already satisfied: contourpy>=1.0.1 in /usr/local/lib/python3.10/dist-packages (from matplotlib!=3.6.1,>=3.1->seaborn) (1.0.7)\n",
            "Requirement already satisfied: cycler>=0.10 in /usr/local/lib/python3.10/dist-packages (from matplotlib!=3.6.1,>=3.1->seaborn) (0.11.0)\n",
            "Requirement already satisfied: fonttools>=4.22.0 in /usr/local/lib/python3.10/dist-packages (from matplotlib!=3.6.1,>=3.1->seaborn) (4.39.3)\n",
            "Requirement already satisfied: kiwisolver>=1.0.1 in /usr/local/lib/python3.10/dist-packages (from matplotlib!=3.6.1,>=3.1->seaborn) (1.4.4)\n",
            "Requirement already satisfied: packaging>=20.0 in /usr/local/lib/python3.10/dist-packages (from matplotlib!=3.6.1,>=3.1->seaborn) (23.1)\n",
            "Requirement already satisfied: pyparsing>=2.3.1 in /usr/local/lib/python3.10/dist-packages (from matplotlib!=3.6.1,>=3.1->seaborn) (3.0.9)\n",
            "Requirement already satisfied: python-dateutil>=2.7 in /usr/local/lib/python3.10/dist-packages (from matplotlib!=3.6.1,>=3.1->seaborn) (2.8.2)\n",
            "Requirement already satisfied: pytz>=2020.1 in /usr/local/lib/python3.10/dist-packages (from pandas>=0.25->seaborn) (2022.7.1)\n",
            "Requirement already satisfied: six>=1.5 in /usr/local/lib/python3.10/dist-packages (from python-dateutil>=2.7->matplotlib!=3.6.1,>=3.1->seaborn) (1.16.0)\n",
            "Installing collected packages: captcha\n",
            "Successfully installed captcha-0.4\n"
          ]
        }
      ],
      "source": [
        "!pip install captcha pillow seaborn"
      ]
    },
    {
      "cell_type": "code",
      "execution_count": 4,
      "metadata": {
        "colab": {
          "base_uri": "https://localhost:8080/",
          "height": 381
        },
        "id": "nw65OruqkUgV",
        "outputId": "d164f238-89ef-4723-e62d-d38bd75d9c34"
      },
      "outputs": [
        {
          "metadata": {
            "tags": null
          },
          "name": "stdout",
          "output_type": "stream",
          "text": [
            "10 choices: 0123456789\n",
            "generating 100 epoches of captchas in /content/images/char-4-epoch-2/train.\n"
          ]
        },
        {
          "output_type": "error",
          "ename": "KeyboardInterrupt",
          "evalue": "ignored",
          "traceback": [
            "\u001b[0;31m---------------------------------------------------------------------------\u001b[0m",
            "\u001b[0;31mKeyboardInterrupt\u001b[0m                         Traceback (most recent call last)",
            "\u001b[0;32m<ipython-input-4-7870898f95b4>\u001b[0m in \u001b[0;36m<cell line: 87>\u001b[0;34m()\u001b[0m\n\u001b[1;32m     85\u001b[0m     \u001b[0mprint\u001b[0m\u001b[0;34m(\u001b[0m\u001b[0;34m'write meta info in %s'\u001b[0m \u001b[0;34m%\u001b[0m \u001b[0mmeta_filename\u001b[0m\u001b[0;34m)\u001b[0m\u001b[0;34m\u001b[0m\u001b[0;34m\u001b[0m\u001b[0m\n\u001b[1;32m     86\u001b[0m \u001b[0;34m\u001b[0m\u001b[0m\n\u001b[0;32m---> 87\u001b[0;31m \u001b[0mgen_dataset\u001b[0m\u001b[0;34m(\u001b[0m\u001b[0;34m)\u001b[0m\u001b[0;34m\u001b[0m\u001b[0;34m\u001b[0m\u001b[0m\n\u001b[0m",
            "\u001b[0;32m<ipython-input-4-7870898f95b4>\u001b[0m in \u001b[0;36mgen_dataset\u001b[0;34m()\u001b[0m\n\u001b[1;32m     75\u001b[0m     \u001b[0mprint\u001b[0m\u001b[0;34m(\u001b[0m\u001b[0;34m'%s choices: %s'\u001b[0m \u001b[0;34m%\u001b[0m \u001b[0;34m(\u001b[0m\u001b[0mlen\u001b[0m\u001b[0;34m(\u001b[0m\u001b[0mchoices\u001b[0m\u001b[0;34m)\u001b[0m\u001b[0;34m,\u001b[0m \u001b[0;34m''\u001b[0m\u001b[0;34m.\u001b[0m\u001b[0mjoin\u001b[0m\u001b[0;34m(\u001b[0m\u001b[0mchoices\u001b[0m\u001b[0;34m)\u001b[0m \u001b[0;32mor\u001b[0m \u001b[0;32mNone\u001b[0m\u001b[0;34m)\u001b[0m\u001b[0;34m)\u001b[0m\u001b[0;34m\u001b[0m\u001b[0;34m\u001b[0m\u001b[0m\n\u001b[1;32m     76\u001b[0m \u001b[0;34m\u001b[0m\u001b[0m\n\u001b[0;32m---> 77\u001b[0;31m     \u001b[0m_gen_captcha\u001b[0m\u001b[0;34m(\u001b[0m\u001b[0mbuild_file_path\u001b[0m\u001b[0;34m(\u001b[0m\u001b[0;34m'train'\u001b[0m\u001b[0;34m)\u001b[0m\u001b[0;34m,\u001b[0m \u001b[0mnum_per_image\u001b[0m\u001b[0;34m,\u001b[0m \u001b[0mn_epoch\u001b[0m\u001b[0;34m,\u001b[0m \u001b[0mwidth\u001b[0m\u001b[0;34m,\u001b[0m \u001b[0mheight\u001b[0m\u001b[0;34m,\u001b[0m \u001b[0mchoices\u001b[0m\u001b[0;34m=\u001b[0m\u001b[0mchoices\u001b[0m\u001b[0;34m,\u001b[0m \u001b[0mmax_images_count\u001b[0m\u001b[0;34m=\u001b[0m\u001b[0mmax_images_count\u001b[0m\u001b[0;34m)\u001b[0m\u001b[0;34m\u001b[0m\u001b[0;34m\u001b[0m\u001b[0m\n\u001b[0m\u001b[1;32m     78\u001b[0m \u001b[0;34m\u001b[0m\u001b[0m\n\u001b[1;32m     79\u001b[0m     \u001b[0;32mif\u001b[0m \u001b[0mtest_ratio\u001b[0m \u001b[0;34m>\u001b[0m \u001b[0;36m0\u001b[0m\u001b[0;34m:\u001b[0m\u001b[0;34m\u001b[0m\u001b[0;34m\u001b[0m\u001b[0m\n",
            "\u001b[0;32m<ipython-input-4-7870898f95b4>\u001b[0m in \u001b[0;36m_gen_captcha\u001b[0;34m(img_dir, num_per_image, n, width, height, choices, max_images_count)\u001b[0m\n\u001b[1;32m     43\u001b[0m             \u001b[0mcaptcha\u001b[0m \u001b[0;34m=\u001b[0m \u001b[0;34m''\u001b[0m\u001b[0;34m.\u001b[0m\u001b[0mjoin\u001b[0m\u001b[0;34m(\u001b[0m\u001b[0mi\u001b[0m\u001b[0;34m)\u001b[0m\u001b[0;34m\u001b[0m\u001b[0;34m\u001b[0m\u001b[0m\n\u001b[1;32m     44\u001b[0m             \u001b[0mfn\u001b[0m \u001b[0;34m=\u001b[0m \u001b[0mos\u001b[0m\u001b[0;34m.\u001b[0m\u001b[0mpath\u001b[0m\u001b[0;34m.\u001b[0m\u001b[0mjoin\u001b[0m\u001b[0;34m(\u001b[0m\u001b[0mimg_dir\u001b[0m\u001b[0;34m,\u001b[0m \u001b[0;34m'%s_%s.png'\u001b[0m \u001b[0;34m%\u001b[0m \u001b[0;34m(\u001b[0m\u001b[0mcaptcha\u001b[0m\u001b[0;34m,\u001b[0m \u001b[0muuid\u001b[0m\u001b[0;34m.\u001b[0m\u001b[0muuid4\u001b[0m\u001b[0;34m(\u001b[0m\u001b[0;34m)\u001b[0m\u001b[0;34m)\u001b[0m\u001b[0;34m)\u001b[0m\u001b[0;34m\u001b[0m\u001b[0;34m\u001b[0m\u001b[0m\n\u001b[0;32m---> 45\u001b[0;31m             \u001b[0mimage\u001b[0m\u001b[0;34m.\u001b[0m\u001b[0mwrite\u001b[0m\u001b[0;34m(\u001b[0m\u001b[0mcaptcha\u001b[0m\u001b[0;34m,\u001b[0m \u001b[0mfn\u001b[0m\u001b[0;34m)\u001b[0m\u001b[0;34m\u001b[0m\u001b[0;34m\u001b[0m\u001b[0m\n\u001b[0m\u001b[1;32m     46\u001b[0m         \u001b[0;32mif\u001b[0m \u001b[0mn\u001b[0m \u001b[0;34m<\u001b[0m \u001b[0;36m20\u001b[0m\u001b[0;34m:\u001b[0m\u001b[0;34m\u001b[0m\u001b[0;34m\u001b[0m\u001b[0m\n\u001b[1;32m     47\u001b[0m             \u001b[0mprint\u001b[0m\u001b[0;34m(\u001b[0m\u001b[0;34m'(%s/%s) epoches finished'\u001b[0m \u001b[0;34m%\u001b[0m \u001b[0;34m(\u001b[0m\u001b[0m_\u001b[0m\u001b[0;34m+\u001b[0m\u001b[0;36m1\u001b[0m\u001b[0;34m,\u001b[0m \u001b[0mn\u001b[0m\u001b[0;34m)\u001b[0m\u001b[0;34m)\u001b[0m\u001b[0;34m\u001b[0m\u001b[0;34m\u001b[0m\u001b[0m\n",
            "\u001b[0;32m/usr/local/lib/python3.10/dist-packages/captcha/image.py\u001b[0m in \u001b[0;36mwrite\u001b[0;34m(self, chars, output, format)\u001b[0m\n\u001b[1;32m     56\u001b[0m         \u001b[0;34m:\u001b[0m\u001b[0mparam\u001b[0m \u001b[0mformat\u001b[0m\u001b[0;34m:\u001b[0m \u001b[0mimage\u001b[0m \u001b[0mfile\u001b[0m \u001b[0mformat\u001b[0m\u001b[0;34m\u001b[0m\u001b[0;34m\u001b[0m\u001b[0m\n\u001b[1;32m     57\u001b[0m         \"\"\"\n\u001b[0;32m---> 58\u001b[0;31m         \u001b[0mim\u001b[0m \u001b[0;34m=\u001b[0m \u001b[0mself\u001b[0m\u001b[0;34m.\u001b[0m\u001b[0mgenerate_image\u001b[0m\u001b[0;34m(\u001b[0m\u001b[0mchars\u001b[0m\u001b[0;34m)\u001b[0m\u001b[0;34m\u001b[0m\u001b[0;34m\u001b[0m\u001b[0m\n\u001b[0m\u001b[1;32m     59\u001b[0m         \u001b[0;32mreturn\u001b[0m \u001b[0mim\u001b[0m\u001b[0;34m.\u001b[0m\u001b[0msave\u001b[0m\u001b[0;34m(\u001b[0m\u001b[0moutput\u001b[0m\u001b[0;34m,\u001b[0m \u001b[0mformat\u001b[0m\u001b[0;34m=\u001b[0m\u001b[0mformat\u001b[0m\u001b[0;34m)\u001b[0m\u001b[0;34m\u001b[0m\u001b[0;34m\u001b[0m\u001b[0m\n\u001b[1;32m     60\u001b[0m \u001b[0;34m\u001b[0m\u001b[0m\n",
            "\u001b[0;32m/usr/local/lib/python3.10/dist-packages/captcha/image.py\u001b[0m in \u001b[0;36mgenerate_image\u001b[0;34m(self, chars)\u001b[0m\n\u001b[1;32m    226\u001b[0m         \u001b[0mbackground\u001b[0m \u001b[0;34m=\u001b[0m \u001b[0mrandom_color\u001b[0m\u001b[0;34m(\u001b[0m\u001b[0;36m238\u001b[0m\u001b[0;34m,\u001b[0m \u001b[0;36m255\u001b[0m\u001b[0;34m)\u001b[0m\u001b[0;34m\u001b[0m\u001b[0;34m\u001b[0m\u001b[0m\n\u001b[1;32m    227\u001b[0m         \u001b[0mcolor\u001b[0m \u001b[0;34m=\u001b[0m \u001b[0mrandom_color\u001b[0m\u001b[0;34m(\u001b[0m\u001b[0;36m10\u001b[0m\u001b[0;34m,\u001b[0m \u001b[0;36m200\u001b[0m\u001b[0;34m,\u001b[0m \u001b[0mrandom\u001b[0m\u001b[0;34m.\u001b[0m\u001b[0mrandint\u001b[0m\u001b[0;34m(\u001b[0m\u001b[0;36m220\u001b[0m\u001b[0;34m,\u001b[0m \u001b[0;36m255\u001b[0m\u001b[0;34m)\u001b[0m\u001b[0;34m)\u001b[0m\u001b[0;34m\u001b[0m\u001b[0;34m\u001b[0m\u001b[0m\n\u001b[0;32m--> 228\u001b[0;31m         \u001b[0mim\u001b[0m \u001b[0;34m=\u001b[0m \u001b[0mself\u001b[0m\u001b[0;34m.\u001b[0m\u001b[0mcreate_captcha_image\u001b[0m\u001b[0;34m(\u001b[0m\u001b[0mchars\u001b[0m\u001b[0;34m,\u001b[0m \u001b[0mcolor\u001b[0m\u001b[0;34m,\u001b[0m \u001b[0mbackground\u001b[0m\u001b[0;34m)\u001b[0m\u001b[0;34m\u001b[0m\u001b[0;34m\u001b[0m\u001b[0m\n\u001b[0m\u001b[1;32m    229\u001b[0m         \u001b[0mself\u001b[0m\u001b[0;34m.\u001b[0m\u001b[0mcreate_noise_dots\u001b[0m\u001b[0;34m(\u001b[0m\u001b[0mim\u001b[0m\u001b[0;34m,\u001b[0m \u001b[0mcolor\u001b[0m\u001b[0;34m)\u001b[0m\u001b[0;34m\u001b[0m\u001b[0;34m\u001b[0m\u001b[0m\n\u001b[1;32m    230\u001b[0m         \u001b[0mself\u001b[0m\u001b[0;34m.\u001b[0m\u001b[0mcreate_noise_curve\u001b[0m\u001b[0;34m(\u001b[0m\u001b[0mim\u001b[0m\u001b[0;34m,\u001b[0m \u001b[0mcolor\u001b[0m\u001b[0;34m)\u001b[0m\u001b[0;34m\u001b[0m\u001b[0;34m\u001b[0m\u001b[0m\n",
            "\u001b[0;32m/usr/local/lib/python3.10/dist-packages/captcha/image.py\u001b[0m in \u001b[0;36mcreate_captcha_image\u001b[0;34m(self, chars, color, background)\u001b[0m\n\u001b[1;32m    197\u001b[0m             \u001b[0;32mif\u001b[0m \u001b[0mrandom\u001b[0m\u001b[0;34m.\u001b[0m\u001b[0mrandom\u001b[0m\u001b[0;34m(\u001b[0m\u001b[0;34m)\u001b[0m \u001b[0;34m>\u001b[0m \u001b[0;36m0.5\u001b[0m\u001b[0;34m:\u001b[0m\u001b[0;34m\u001b[0m\u001b[0;34m\u001b[0m\u001b[0m\n\u001b[1;32m    198\u001b[0m                 \u001b[0mimages\u001b[0m\u001b[0;34m.\u001b[0m\u001b[0mappend\u001b[0m\u001b[0;34m(\u001b[0m\u001b[0m_draw_character\u001b[0m\u001b[0;34m(\u001b[0m\u001b[0;34m\" \"\u001b[0m\u001b[0;34m)\u001b[0m\u001b[0;34m)\u001b[0m\u001b[0;34m\u001b[0m\u001b[0;34m\u001b[0m\u001b[0m\n\u001b[0;32m--> 199\u001b[0;31m             \u001b[0mimages\u001b[0m\u001b[0;34m.\u001b[0m\u001b[0mappend\u001b[0m\u001b[0;34m(\u001b[0m\u001b[0m_draw_character\u001b[0m\u001b[0;34m(\u001b[0m\u001b[0mc\u001b[0m\u001b[0;34m)\u001b[0m\u001b[0;34m)\u001b[0m\u001b[0;34m\u001b[0m\u001b[0;34m\u001b[0m\u001b[0m\n\u001b[0m\u001b[1;32m    200\u001b[0m \u001b[0;34m\u001b[0m\u001b[0m\n\u001b[1;32m    201\u001b[0m         \u001b[0mtext_width\u001b[0m \u001b[0;34m=\u001b[0m \u001b[0msum\u001b[0m\u001b[0;34m(\u001b[0m\u001b[0;34m[\u001b[0m\u001b[0mim\u001b[0m\u001b[0;34m.\u001b[0m\u001b[0msize\u001b[0m\u001b[0;34m[\u001b[0m\u001b[0;36m0\u001b[0m\u001b[0;34m]\u001b[0m \u001b[0;32mfor\u001b[0m \u001b[0mim\u001b[0m \u001b[0;32min\u001b[0m \u001b[0mimages\u001b[0m\u001b[0;34m]\u001b[0m\u001b[0;34m)\u001b[0m\u001b[0;34m\u001b[0m\u001b[0;34m\u001b[0m\u001b[0m\n",
            "\u001b[0;32m/usr/local/lib/python3.10/dist-packages/captcha/image.py\u001b[0m in \u001b[0;36m_draw_character\u001b[0;34m(c)\u001b[0m\n\u001b[1;32m    168\u001b[0m             \u001b[0mdy\u001b[0m \u001b[0;34m=\u001b[0m \u001b[0mrandom\u001b[0m\u001b[0;34m.\u001b[0m\u001b[0mrandint\u001b[0m\u001b[0;34m(\u001b[0m\u001b[0;36m0\u001b[0m\u001b[0;34m,\u001b[0m \u001b[0;36m6\u001b[0m\u001b[0;34m)\u001b[0m\u001b[0;34m\u001b[0m\u001b[0;34m\u001b[0m\u001b[0m\n\u001b[1;32m    169\u001b[0m             \u001b[0mim\u001b[0m \u001b[0;34m=\u001b[0m \u001b[0mImage\u001b[0m\u001b[0;34m.\u001b[0m\u001b[0mnew\u001b[0m\u001b[0;34m(\u001b[0m\u001b[0;34m'RGBA'\u001b[0m\u001b[0;34m,\u001b[0m \u001b[0;34m(\u001b[0m\u001b[0mw\u001b[0m \u001b[0;34m+\u001b[0m \u001b[0mdx\u001b[0m\u001b[0;34m,\u001b[0m \u001b[0mh\u001b[0m \u001b[0;34m+\u001b[0m \u001b[0mdy\u001b[0m\u001b[0;34m)\u001b[0m\u001b[0;34m)\u001b[0m\u001b[0;34m\u001b[0m\u001b[0;34m\u001b[0m\u001b[0m\n\u001b[0;32m--> 170\u001b[0;31m             \u001b[0mDraw\u001b[0m\u001b[0;34m(\u001b[0m\u001b[0mim\u001b[0m\u001b[0;34m)\u001b[0m\u001b[0;34m.\u001b[0m\u001b[0mtext\u001b[0m\u001b[0;34m(\u001b[0m\u001b[0;34m(\u001b[0m\u001b[0mdx\u001b[0m\u001b[0;34m,\u001b[0m \u001b[0mdy\u001b[0m\u001b[0;34m)\u001b[0m\u001b[0;34m,\u001b[0m \u001b[0mc\u001b[0m\u001b[0;34m,\u001b[0m \u001b[0mfont\u001b[0m\u001b[0;34m=\u001b[0m\u001b[0mfont\u001b[0m\u001b[0;34m,\u001b[0m \u001b[0mfill\u001b[0m\u001b[0;34m=\u001b[0m\u001b[0mcolor\u001b[0m\u001b[0;34m)\u001b[0m\u001b[0;34m\u001b[0m\u001b[0;34m\u001b[0m\u001b[0m\n\u001b[0m\u001b[1;32m    171\u001b[0m \u001b[0;34m\u001b[0m\u001b[0m\n\u001b[1;32m    172\u001b[0m             \u001b[0;31m# rotate\u001b[0m\u001b[0;34m\u001b[0m\u001b[0;34m\u001b[0m\u001b[0m\n",
            "\u001b[0;32m/usr/local/lib/python3.10/dist-packages/PIL/ImageDraw.py\u001b[0m in \u001b[0;36mtext\u001b[0;34m(self, xy, text, fill, font, anchor, spacing, align, direction, features, language, stroke_width, stroke_fill, embedded_color, *args, **kwargs)\u001b[0m\n\u001b[1;32m    461\u001b[0m             \u001b[0;32melse\u001b[0m\u001b[0;34m:\u001b[0m\u001b[0;34m\u001b[0m\u001b[0;34m\u001b[0m\u001b[0m\n\u001b[1;32m    462\u001b[0m                 \u001b[0;31m# Only draw normal text\u001b[0m\u001b[0;34m\u001b[0m\u001b[0;34m\u001b[0m\u001b[0m\n\u001b[0;32m--> 463\u001b[0;31m                 \u001b[0mdraw_text\u001b[0m\u001b[0;34m(\u001b[0m\u001b[0mink\u001b[0m\u001b[0;34m)\u001b[0m\u001b[0;34m\u001b[0m\u001b[0;34m\u001b[0m\u001b[0m\n\u001b[0m\u001b[1;32m    464\u001b[0m \u001b[0;34m\u001b[0m\u001b[0m\n\u001b[1;32m    465\u001b[0m     def multiline_text(\n",
            "\u001b[0;32m/usr/local/lib/python3.10/dist-packages/PIL/ImageDraw.py\u001b[0m in \u001b[0;36mdraw_text\u001b[0;34m(ink, stroke_width, stroke_offset)\u001b[0m\n\u001b[1;32m    406\u001b[0m             \u001b[0mcoord\u001b[0m \u001b[0;34m=\u001b[0m \u001b[0mxy\u001b[0m\u001b[0;34m\u001b[0m\u001b[0;34m\u001b[0m\u001b[0m\n\u001b[1;32m    407\u001b[0m             \u001b[0;32mtry\u001b[0m\u001b[0;34m:\u001b[0m\u001b[0;34m\u001b[0m\u001b[0;34m\u001b[0m\u001b[0m\n\u001b[0;32m--> 408\u001b[0;31m                 mask, offset = font.getmask2(\n\u001b[0m\u001b[1;32m    409\u001b[0m                     \u001b[0mtext\u001b[0m\u001b[0;34m,\u001b[0m\u001b[0;34m\u001b[0m\u001b[0;34m\u001b[0m\u001b[0m\n\u001b[1;32m    410\u001b[0m                     \u001b[0mmode\u001b[0m\u001b[0;34m,\u001b[0m\u001b[0;34m\u001b[0m\u001b[0;34m\u001b[0m\u001b[0m\n",
            "\u001b[0;31mKeyboardInterrupt\u001b[0m: "
          ]
        }
      ],
      "source": [
        "import argparse\n",
        "import json\n",
        "import random\n",
        "import string\n",
        "import os\n",
        "import shutil\n",
        "import uuid\n",
        "from captcha.image import ImageCaptcha\n",
        "\n",
        "import itertools\n",
        "\n",
        "FLAGS = None\n",
        "META_FILENAME = 'meta.json'\n",
        "\n",
        "\n",
        "def get_choices():\n",
        "    choices = [\n",
        "        (True, map(str, range(10))),\n",
        "        ]\n",
        "    return tuple([i for is_selected, subset in choices for i in subset if is_selected])\n",
        "\n",
        "\n",
        "def _gen_captcha(img_dir, num_per_image, n, width, height, choices, max_images_count):\n",
        "    if os.path.exists(img_dir):\n",
        "        shutil.rmtree(img_dir)\n",
        "    if not os.path.exists(img_dir):\n",
        "        os.makedirs(img_dir)\n",
        "\n",
        "    image = ImageCaptcha(width=width, height=height)\n",
        "\n",
        "    remain_count = max_images_count\n",
        "    epoche_count = len(list(itertools.permutations(choices, num_per_image)))\n",
        "\n",
        "    print('generating %s epoches of captchas in %s.' % (n, img_dir))\n",
        "\n",
        "    for _ in range(n):\n",
        "        samples = itertools.permutations(choices, num_per_image)\n",
        "        if remain_count > 0 and remain_count < epoche_count:\n",
        "            print('only %s records used in epoche %s. epoche_count: %s' % (remain_count, _+1, epoche_count))\n",
        "            samples = random.sample(list(samples), remain_count)\n",
        "\n",
        "        for i in samples:\n",
        "            captcha = ''.join(i)\n",
        "            fn = os.path.join(img_dir, '%s_%s.png' % (captcha, uuid.uuid4()))\n",
        "            image.write(captcha, fn)\n",
        "        if n < 20:\n",
        "            print('(%s/%s) epoches finished' % (_+1, n))\n",
        "\n",
        "\n",
        "def build_file_path(x):\n",
        "    return os.path.join(r\"/content/images/\", 'char-%s-epoch-%s' % (4, 2), x)\n",
        "\n",
        "\n",
        "def gen_dataset():\n",
        "    n_epoch = 100\n",
        "    num_per_image = 4\n",
        "    test_ratio = 0\n",
        "    max_images_count = 0\n",
        "\n",
        "    choices = get_choices()\n",
        "\n",
        "    width = 40 + 20 * num_per_image\n",
        "    height = 100\n",
        "\n",
        "    # meta info\n",
        "    meta = {\n",
        "        'num_per_image': num_per_image,\n",
        "        'label_size': len(choices),\n",
        "        'label_choices': ''.join(choices),\n",
        "        'n_epoch': n_epoch,\n",
        "        'width': width,\n",
        "        'height': height,\n",
        "    }\n",
        "\n",
        "    print('%s choices: %s' % (len(choices), ''.join(choices) or None))\n",
        "\n",
        "    _gen_captcha(build_file_path('train'), num_per_image, n_epoch, width, height, choices=choices, max_images_count=max_images_count)\n",
        "\n",
        "    if test_ratio > 0:\n",
        "        _gen_captcha(build_file_path('test'), num_per_image, max(1, int(n_epoch * test_ratio)), width, height, choices=choices, max_images_count=max(1, int(max_images_count * test_ratio)))\n",
        "\n",
        "    meta_filename = build_file_path(META_FILENAME)\n",
        "    with open(meta_filename, 'w') as f:\n",
        "        json.dump(meta, f, indent=4)\n",
        "    print('write meta info in %s' % meta_filename)\n",
        "\n",
        "gen_dataset()"
      ]
    },
    {
      "cell_type": "code",
      "execution_count": 5,
      "metadata": {
        "id": "Y4y4XyAbmRKc"
      },
      "outputs": [],
      "source": [
        "import PIL\n",
        "import os\n",
        "import os.path\n",
        "from PIL import Image\n",
        "\n",
        "f = r'/content/images/char-4-epoch-2/train'\n",
        "for file in os.listdir(f):\n",
        "    f_img = f+\"/\"+file\n",
        "    img = Image.open(f_img)\n",
        "    img = img.resize((54,22))\n",
        "    img.save(f_img)"
      ]
    },
    {
      "cell_type": "markdown",
      "metadata": {
        "id": "lB48IqG0mVKy"
      },
      "source": [
        "Actual Code"
      ]
    },
    {
      "cell_type": "code",
      "execution_count": 15,
      "metadata": {
        "id": "fitbvaaQTZgG",
        "colab": {
          "base_uri": "https://localhost:8080/",
          "height": 35
        },
        "outputId": "960a805b-5685-4ef5-b166-d022bf58aebe"
      },
      "outputs": [
        {
          "output_type": "execute_result",
          "data": {
            "text/plain": [
              "'2.12.0'"
            ],
            "application/vnd.google.colaboratory.intrinsic+json": {
              "type": "string"
            }
          },
          "metadata": {},
          "execution_count": 15
        }
      ],
      "source": [
        "import tensorflow as tf\n",
        "from tensorflow.keras import datasets, layers, models\n",
        "\n",
        "import os\n",
        "import time\n",
        "import json\n",
        "import glob\n",
        "\n",
        "import matplotlib.pyplot as plt\n",
        "from PIL import Image\n",
        "\n",
        "import numpy as np # linear algebra\n",
        "import pandas as pd # data processing, CSV file I/O (e.g. pd.read_csv)\n",
        "import seaborn as sns\n",
        "\n",
        "tf.__version__"
      ]
    },
    {
      "cell_type": "markdown",
      "metadata": {
        "id": "wruoOsH5TZgL"
      },
      "source": [
        "# Data Preview"
      ]
    },
    {
      "cell_type": "code",
      "execution_count": 16,
      "metadata": {
        "id": "oQjw_bg3TZgM"
      },
      "outputs": [],
      "source": [
        "# !python3 datasets/gen_captcha.py -d --npi=4 -n 6\n",
        "# !python3 datasets/base.py ./images/char-4-epoch-6/"
      ]
    },
    {
      "cell_type": "code",
      "execution_count": 17,
      "metadata": {
        "id": "XwGsSzJwTZgN"
      },
      "outputs": [],
      "source": [
        "DATA_DIR = '/content/images/char-4-epoch-2/train'\n",
        "H, W, C = 22, 54, 3  # height, width, 3(RGB channels)\n",
        "N_LABELS = 256\n",
        "D = 4 # num_per_image"
      ]
    },
    {
      "cell_type": "code",
      "execution_count": 18,
      "metadata": {
        "id": "PllrXw72TZgN"
      },
      "outputs": [],
      "source": [
        "def parse_filepath(filepath):\n",
        "    try:\n",
        "        path, filename = os.path.split(filepath)\n",
        "        filename, ext = os.path.splitext(filename)\n",
        "        label, _ = filename.split(\"_\")\n",
        "        return label\n",
        "    except Exception as e:\n",
        "        print('error to parse %s. %s' % (filepath, e))\n",
        "        return None, None"
      ]
    },
    {
      "cell_type": "code",
      "execution_count": 19,
      "metadata": {
        "id": "cm07bbkcTZgO",
        "colab": {
          "base_uri": "https://localhost:8080/",
          "height": 206
        },
        "outputId": "fc6a8bd5-68df-4662-d962-97ab7b87b8f6"
      },
      "outputs": [
        {
          "output_type": "execute_result",
          "data": {
            "text/plain": [
              "  label                                               file\n",
              "0  0172  /content/images/char-4-epoch-2/train/0172_23d6...\n",
              "1  0573  /content/images/char-4-epoch-2/train/0573_92db...\n",
              "2  5107  /content/images/char-4-epoch-2/train/5107_f744...\n",
              "3  5703  /content/images/char-4-epoch-2/train/5703_c2fc...\n",
              "4  9086  /content/images/char-4-epoch-2/train/9086_f2eb..."
            ],
            "text/html": [
              "\n",
              "  <div id=\"df-117c3dbd-c90d-486a-a427-9dd03329dfa1\">\n",
              "    <div class=\"colab-df-container\">\n",
              "      <div>\n",
              "<style scoped>\n",
              "    .dataframe tbody tr th:only-of-type {\n",
              "        vertical-align: middle;\n",
              "    }\n",
              "\n",
              "    .dataframe tbody tr th {\n",
              "        vertical-align: top;\n",
              "    }\n",
              "\n",
              "    .dataframe thead th {\n",
              "        text-align: right;\n",
              "    }\n",
              "</style>\n",
              "<table border=\"1\" class=\"dataframe\">\n",
              "  <thead>\n",
              "    <tr style=\"text-align: right;\">\n",
              "      <th></th>\n",
              "      <th>label</th>\n",
              "      <th>file</th>\n",
              "    </tr>\n",
              "  </thead>\n",
              "  <tbody>\n",
              "    <tr>\n",
              "      <th>0</th>\n",
              "      <td>0172</td>\n",
              "      <td>/content/images/char-4-epoch-2/train/0172_23d6...</td>\n",
              "    </tr>\n",
              "    <tr>\n",
              "      <th>1</th>\n",
              "      <td>0573</td>\n",
              "      <td>/content/images/char-4-epoch-2/train/0573_92db...</td>\n",
              "    </tr>\n",
              "    <tr>\n",
              "      <th>2</th>\n",
              "      <td>5107</td>\n",
              "      <td>/content/images/char-4-epoch-2/train/5107_f744...</td>\n",
              "    </tr>\n",
              "    <tr>\n",
              "      <th>3</th>\n",
              "      <td>5703</td>\n",
              "      <td>/content/images/char-4-epoch-2/train/5703_c2fc...</td>\n",
              "    </tr>\n",
              "    <tr>\n",
              "      <th>4</th>\n",
              "      <td>9086</td>\n",
              "      <td>/content/images/char-4-epoch-2/train/9086_f2eb...</td>\n",
              "    </tr>\n",
              "  </tbody>\n",
              "</table>\n",
              "</div>\n",
              "      <button class=\"colab-df-convert\" onclick=\"convertToInteractive('df-117c3dbd-c90d-486a-a427-9dd03329dfa1')\"\n",
              "              title=\"Convert this dataframe to an interactive table.\"\n",
              "              style=\"display:none;\">\n",
              "        \n",
              "  <svg xmlns=\"http://www.w3.org/2000/svg\" height=\"24px\"viewBox=\"0 0 24 24\"\n",
              "       width=\"24px\">\n",
              "    <path d=\"M0 0h24v24H0V0z\" fill=\"none\"/>\n",
              "    <path d=\"M18.56 5.44l.94 2.06.94-2.06 2.06-.94-2.06-.94-.94-2.06-.94 2.06-2.06.94zm-11 1L8.5 8.5l.94-2.06 2.06-.94-2.06-.94L8.5 2.5l-.94 2.06-2.06.94zm10 10l.94 2.06.94-2.06 2.06-.94-2.06-.94-.94-2.06-.94 2.06-2.06.94z\"/><path d=\"M17.41 7.96l-1.37-1.37c-.4-.4-.92-.59-1.43-.59-.52 0-1.04.2-1.43.59L10.3 9.45l-7.72 7.72c-.78.78-.78 2.05 0 2.83L4 21.41c.39.39.9.59 1.41.59.51 0 1.02-.2 1.41-.59l7.78-7.78 2.81-2.81c.8-.78.8-2.07 0-2.86zM5.41 20L4 18.59l7.72-7.72 1.47 1.35L5.41 20z\"/>\n",
              "  </svg>\n",
              "      </button>\n",
              "      \n",
              "  <style>\n",
              "    .colab-df-container {\n",
              "      display:flex;\n",
              "      flex-wrap:wrap;\n",
              "      gap: 12px;\n",
              "    }\n",
              "\n",
              "    .colab-df-convert {\n",
              "      background-color: #E8F0FE;\n",
              "      border: none;\n",
              "      border-radius: 50%;\n",
              "      cursor: pointer;\n",
              "      display: none;\n",
              "      fill: #1967D2;\n",
              "      height: 32px;\n",
              "      padding: 0 0 0 0;\n",
              "      width: 32px;\n",
              "    }\n",
              "\n",
              "    .colab-df-convert:hover {\n",
              "      background-color: #E2EBFA;\n",
              "      box-shadow: 0px 1px 2px rgba(60, 64, 67, 0.3), 0px 1px 3px 1px rgba(60, 64, 67, 0.15);\n",
              "      fill: #174EA6;\n",
              "    }\n",
              "\n",
              "    [theme=dark] .colab-df-convert {\n",
              "      background-color: #3B4455;\n",
              "      fill: #D2E3FC;\n",
              "    }\n",
              "\n",
              "    [theme=dark] .colab-df-convert:hover {\n",
              "      background-color: #434B5C;\n",
              "      box-shadow: 0px 1px 3px 1px rgba(0, 0, 0, 0.15);\n",
              "      filter: drop-shadow(0px 1px 2px rgba(0, 0, 0, 0.3));\n",
              "      fill: #FFFFFF;\n",
              "    }\n",
              "  </style>\n",
              "\n",
              "      <script>\n",
              "        const buttonEl =\n",
              "          document.querySelector('#df-117c3dbd-c90d-486a-a427-9dd03329dfa1 button.colab-df-convert');\n",
              "        buttonEl.style.display =\n",
              "          google.colab.kernel.accessAllowed ? 'block' : 'none';\n",
              "\n",
              "        async function convertToInteractive(key) {\n",
              "          const element = document.querySelector('#df-117c3dbd-c90d-486a-a427-9dd03329dfa1');\n",
              "          const dataTable =\n",
              "            await google.colab.kernel.invokeFunction('convertToInteractive',\n",
              "                                                     [key], {});\n",
              "          if (!dataTable) return;\n",
              "\n",
              "          const docLinkHtml = 'Like what you see? Visit the ' +\n",
              "            '<a target=\"_blank\" href=https://colab.research.google.com/notebooks/data_table.ipynb>data table notebook</a>'\n",
              "            + ' to learn more about interactive tables.';\n",
              "          element.innerHTML = '';\n",
              "          dataTable['output_type'] = 'display_data';\n",
              "          await google.colab.output.renderOutput(dataTable, element);\n",
              "          const docLink = document.createElement('div');\n",
              "          docLink.innerHTML = docLinkHtml;\n",
              "          element.appendChild(docLink);\n",
              "        }\n",
              "      </script>\n",
              "    </div>\n",
              "  </div>\n",
              "  "
            ]
          },
          "metadata": {},
          "execution_count": 19
        }
      ],
      "source": [
        "# create a pandas data frame of images, age, gender and race\n",
        "files = glob.glob(os.path.join(DATA_DIR, \"*.png\"))\n",
        "attributes = list(map(parse_filepath, files))\n",
        "\n",
        "df = pd.DataFrame(attributes)\n",
        "df['file'] = files\n",
        "df.columns = ['label', 'file']\n",
        "df = df.dropna()\n",
        "df.head()"
      ]
    },
    {
      "cell_type": "markdown",
      "metadata": {
        "id": "ESUaQ9fHTZgQ"
      },
      "source": [
        "# Data Preprocessing"
      ]
    },
    {
      "cell_type": "code",
      "execution_count": 20,
      "metadata": {
        "id": "W8GdeLvSTZgR",
        "colab": {
          "base_uri": "https://localhost:8080/"
        },
        "outputId": "ae03d24a-75f0-4e70-a799-8ff67ccffe64"
      },
      "outputs": [
        {
          "output_type": "stream",
          "name": "stdout",
          "text": [
            "train count: 142614, valid count: 61121, test count: 87316\n"
          ]
        }
      ],
      "source": [
        "p = np.random.permutation(len(df))\n",
        "train_up_to = int(len(df) * 0.7)\n",
        "train_idx = p[:train_up_to]\n",
        "test_idx = p[train_up_to:]\n",
        "\n",
        "# split train_idx further into training and validation set\n",
        "train_up_to = int(train_up_to * 0.7)\n",
        "train_idx, valid_idx = train_idx[:train_up_to], train_idx[train_up_to:]\n",
        "\n",
        "print('train count: %s, valid count: %s, test count: %s' % (\n",
        "    len(train_idx), len(valid_idx), len(test_idx)))"
      ]
    },
    {
      "cell_type": "code",
      "execution_count": 21,
      "metadata": {
        "id": "57S3JKqyTZgS"
      },
      "outputs": [],
      "source": [
        "from tensorflow.keras.utils import to_categorical\n",
        "from PIL import Image\n",
        "\n",
        "\n",
        "def get_data_generator(df, indices, for_training, batch_size=16):\n",
        "    images, labels = [], []\n",
        "    while True:\n",
        "        for i in indices:\n",
        "            r = df.iloc[i]\n",
        "            file, label = r['file'], r['label']\n",
        "            im = Image.open(file)\n",
        "#             im = im.resize((H, W))\n",
        "            im = np.array(im) / 255.0\n",
        "            images.append(np.array(im))\n",
        "            labels.append(np.array([np.array(to_categorical(ord(i), N_LABELS)) for i in label]))\n",
        "            if len(images) >= batch_size:\n",
        "#                 print(np.array(images), np.array(labels))\n",
        "                yield np.array(images), np.array(labels)\n",
        "                images, labels = [], []\n",
        "        if not for_training:\n",
        "            break"
      ]
    },
    {
      "cell_type": "markdown",
      "metadata": {
        "id": "lrwInFJ5TZgT"
      },
      "source": [
        "# Model"
      ]
    },
    {
      "cell_type": "code",
      "execution_count": 22,
      "metadata": {
        "id": "dogRntOfTZgU",
        "scrolled": false,
        "colab": {
          "base_uri": "https://localhost:8080/"
        },
        "outputId": "eac3eb1f-aa75-4dbc-da44-484d176c2c62"
      },
      "outputs": [
        {
          "output_type": "stream",
          "name": "stdout",
          "text": [
            "Model: \"model_1\"\n",
            "_________________________________________________________________\n",
            " Layer (type)                Output Shape              Param #   \n",
            "=================================================================\n",
            " input_2 (InputLayer)        [(None, 22, 54, 3)]       0         \n",
            "                                                                 \n",
            " conv2d_3 (Conv2D)           (None, 20, 52, 32)        896       \n",
            "                                                                 \n",
            " max_pooling2d_3 (MaxPooling  (None, 10, 26, 32)       0         \n",
            " 2D)                                                             \n",
            "                                                                 \n",
            " conv2d_4 (Conv2D)           (None, 8, 24, 64)         18496     \n",
            "                                                                 \n",
            " max_pooling2d_4 (MaxPooling  (None, 4, 12, 64)        0         \n",
            " 2D)                                                             \n",
            "                                                                 \n",
            " conv2d_5 (Conv2D)           (None, 2, 10, 64)         36928     \n",
            "                                                                 \n",
            " max_pooling2d_5 (MaxPooling  (None, 1, 5, 64)         0         \n",
            " 2D)                                                             \n",
            "                                                                 \n",
            " flatten_1 (Flatten)         (None, 320)               0         \n",
            "                                                                 \n",
            " dense_2 (Dense)             (None, 1024)              328704    \n",
            "                                                                 \n",
            " dense_3 (Dense)             (None, 1024)              1049600   \n",
            "                                                                 \n",
            " reshape_1 (Reshape)         (None, 4, 256)            0         \n",
            "                                                                 \n",
            "=================================================================\n",
            "Total params: 1,434,624\n",
            "Trainable params: 1,434,624\n",
            "Non-trainable params: 0\n",
            "_________________________________________________________________\n"
          ]
        }
      ],
      "source": [
        "from tensorflow.keras.layers import Input, Dense, BatchNormalization, Conv2D, MaxPool2D, GlobalMaxPool2D, Dropout\n",
        "from tensorflow.keras.optimizers import SGD\n",
        "from tensorflow.keras.models import Model\n",
        "\n",
        "input_layer = tf.keras.Input(shape=(H, W, C))\n",
        "x = layers.Conv2D(32, 3, activation='relu')(input_layer)\n",
        "x = layers.MaxPooling2D((2, 2))(x)\n",
        "x = layers.Conv2D(64, 3, activation='relu')(x)\n",
        "x = layers.MaxPooling2D((2, 2))(x)\n",
        "x = layers.Conv2D(64, 3, activation='relu')(x)\n",
        "x = layers.MaxPooling2D((2, 2))(x)\n",
        "\n",
        "x = layers.Flatten()(x)\n",
        "x = layers.Dense(1024, activation='relu')(x)\n",
        "x = layers.Dropout(0.3)(x)\n",
        "\n",
        "x = layers.Dense(D * N_LABELS, activation='softmax')(x)\n",
        "x = layers.Reshape((D, N_LABELS))(x)\n",
        "\n",
        "model = models.Model(inputs=input_layer, outputs=x)\n",
        "\n",
        "model.compile(optimizer='adam', \n",
        "              loss='categorical_crossentropy',\n",
        "              metrics= ['accuracy'])\n",
        "model.summary()"
      ]
    },
    {
      "cell_type": "markdown",
      "metadata": {
        "id": "hhf_C8XqTZgV"
      },
      "source": [
        "# Training"
      ]
    },
    {
      "cell_type": "code",
      "execution_count": 25,
      "metadata": {
        "id": "--GfHmlLTZgW",
        "scrolled": false,
        "colab": {
          "base_uri": "https://localhost:8080/"
        },
        "outputId": "63541e55-bc27-4f13-e5d1-63c218b2887e"
      },
      "outputs": [
        {
          "output_type": "stream",
          "name": "stdout",
          "text": [
            "Epoch 1/2\n",
            "2228/2228 [==============================] - 117s 52ms/step - loss: 0.0188 - accuracy: 0.9939 - val_loss: 0.0637 - val_accuracy: 0.9855\n",
            "Epoch 2/2\n",
            "2228/2228 [==============================] - 112s 50ms/step - loss: 0.0184 - accuracy: 0.9941 - val_loss: 0.0588 - val_accuracy: 0.9867\n"
          ]
        }
      ],
      "source": [
        "from tensorflow.keras.callbacks import ModelCheckpoint\n",
        "\n",
        "batch_size = 64\n",
        "valid_batch_size = 64\n",
        "train_gen = get_data_generator(df, train_idx, for_training=True, batch_size=batch_size)\n",
        "valid_gen = get_data_generator(df, valid_idx, for_training=True, batch_size=valid_batch_size)\n",
        "\n",
        "callbacks = [\n",
        "    ModelCheckpoint(\"./model_checkpoint\", monitor='val_loss')\n",
        "]\n",
        "\n",
        "history = model.fit(train_gen,\n",
        "                    steps_per_epoch=len(train_idx)//batch_size,\n",
        "                    epochs=2,\n",
        "#                     callbacks=callbacks,\n",
        "                    validation_data=valid_gen,\n",
        "                    validation_steps=len(valid_idx)//valid_batch_size)"
      ]
    },
    {
      "cell_type": "markdown",
      "metadata": {
        "id": "Wm0asnmXTZgW"
      },
      "source": [
        "# Result Analysis"
      ]
    },
    {
      "cell_type": "code",
      "execution_count": 26,
      "metadata": {
        "id": "3VUIMIlJTZgX",
        "scrolled": false,
        "colab": {
          "base_uri": "https://localhost:8080/",
          "height": 237
        },
        "outputId": "2775ac81-9fe7-4c93-d71a-c9c6188dd811"
      },
      "outputs": [
        {
          "output_type": "display_data",
          "data": {
            "text/plain": [
              "<Figure size 2000x500 with 2 Axes>"
            ],
            "image/png": "[encoded data removed]"
          },
          "metadata": {}
        }
      ],
      "source": [
        "def plot_train_history(history):\n",
        "    fig, axes = plt.subplots(1, 2, figsize=(20, 5))\n",
        "\n",
        "    axes[0].plot(history.history['accuracy'], label='Train accuracy')\n",
        "    axes[0].plot(history.history['val_accuracy'], label='Val accuracy')\n",
        "    axes[0].set_xlabel('Epochs')\n",
        "    axes[0].legend() \n",
        "\n",
        "    axes[1].plot(history.history['loss'], label='Training loss')\n",
        "    axes[1].plot(history.history['val_loss'], label='Validation loss')\n",
        "    axes[1].set_xlabel('Epochs')\n",
        "    axes[1].legend()\n",
        "\n",
        "plot_train_history(history)\n",
        "plt.show()"
      ]
    },
    {
      "cell_type": "code",
      "execution_count": 27,
      "metadata": {
        "id": "cdmH_cFoTZgY",
        "colab": {
          "base_uri": "https://localhost:8080/"
        },
        "outputId": "0ee67f78-abef-4f81-9bf7-7fb6ee2186e8"
      },
      "outputs": [
        {
          "output_type": "stream",
          "name": "stdout",
          "text": [
            "682/682 [==============================] - 42s 61ms/step - loss: 0.0560 - accuracy: 0.9872\n"
          ]
        },
        {
          "output_type": "execute_result",
          "data": {
            "text/plain": [
              "{'loss': 0.055960629135370255, 'accuracy': 0.9872159361839294}"
            ]
          },
          "metadata": {},
          "execution_count": 27
        }
      ],
      "source": [
        "# evaluate loss and accuracy in test dataset\n",
        "test_gen = get_data_generator(df, test_idx, for_training=False, batch_size=128)\n",
        "dict(zip(model.metrics_names, model.evaluate(test_gen, steps=len(test_idx)//128)))"
      ]
    },
    {
      "cell_type": "markdown",
      "metadata": {
        "id": "9Ixozqh6TZgY"
      },
      "source": [
        "# Predict and display result"
      ]
    },
    {
      "cell_type": "code",
      "execution_count": 48,
      "metadata": {
        "id": "BpNoJT1iTZgZ",
        "colab": {
          "base_uri": "https://localhost:8080/"
        },
        "outputId": "e782fa3e-4dcf-44ec-ebbf-17f7fd89fd95"
      },
      "outputs": [
        {
          "output_type": "stream",
          "name": "stdout",
          "text": [
            "(128, 22, 54, 3)\n"
          ]
        }
      ],
      "source": [
        "test_gen = get_data_generator(df, test_idx, for_training=False, batch_size=128)\n",
        "x_test, y_test = next(test_gen)\n",
        "\n",
        "y_pred = model.predict_on_batch(x_test)\n",
        "\n",
        "y_true = tf.math.argmax(y_test, axis=-1)\n",
        "y_pred = tf.math.argmax(y_pred, axis=-1)\n",
        "\n",
        "print(x_test.shape)"
      ]
    },
    {
      "cell_type": "code",
      "execution_count": 29,
      "metadata": {
        "id": "iVnaAsnYTZga"
      },
      "outputs": [],
      "source": [
        "def format_y(y):\n",
        "    return ''.join(map(lambda x: chr(int(x)), y))"
      ]
    },
    {
      "cell_type": "code",
      "execution_count": 60,
      "metadata": {
        "id": "WdYwHQT5TZga",
        "colab": {
          "base_uri": "https://localhost:8080/",
          "height": 1000
        },
        "outputId": "d04c26d7-012f-4dc5-e992-fa281237df0b"
      },
      "outputs": [
        {
          "output_type": "display_data",
          "data": {
            "text/plain": [
              "<Figure size 1500x2000 with 12 Axes>"
            ],
            "image/png": "[encoded data removed]"
          },
          "metadata": {}
        }
      ],
      "source": [
        "import math\n",
        "n = 10\n",
        "random_indices = np.random.permutation(n)\n",
        "n_cols = 3\n",
        "n_rows = math.ceil(n / n_cols)\n",
        "fig, axes = plt.subplots(n_rows, n_cols, figsize=(15, 20))\n",
        "for i, img_idx in enumerate(random_indices):\n",
        "    ax = axes.flat[i]\n",
        "    ax.imshow(x_test[img_idx])\n",
        "    ax.set_title('pred: %s' % format_y(y_pred[img_idx]))\n",
        "    ax.set_xlabel('true: %s' % format_y(y_true[img_idx]))\n",
        "    ax.set_xticks([])\n",
        "    ax.set_yticks([])\n",
        "\n",
        "plt.show()"
      ]
    },
    {
      "cell_type": "code",
      "source": [
        "model.save('saved_model/captcha_nd_9872')"
      ],
      "metadata": {
        "colab": {
          "base_uri": "https://localhost:8080/"
        },
        "id": "gLk_TNGi2qoj",
        "outputId": "8cba739d-f2a0-4e18-acdb-fdbd51ce1311"
      },
      "execution_count": 34,
      "outputs": [
        {
          "output_type": "stream",
          "name": "stderr",
          "text": [
            "WARNING:absl:Found untraced functions such as _jit_compiled_convolution_op, _jit_compiled_convolution_op, _jit_compiled_convolution_op while saving (showing 3 of 3). These functions will not be directly callable after loading.\n"
          ]
        }
      ]
    },
    {
      "cell_type": "code",
      "source": [
        "!zip -r /content/model.zip /content/saved_model/captcha_nd_9872"
      ],
      "metadata": {
        "colab": {
          "base_uri": "https://localhost:8080/"
        },
        "id": "FJXZZm6W29Au",
        "outputId": "cc8fc273-3174-4a14-9c78-962c9c0cb710"
      },
      "execution_count": 36,
      "outputs": [
        {
          "output_type": "stream",
          "name": "stdout",
          "text": [
            "  adding: content/saved_model/captcha_nd_9872/ (stored 0%)\n",
            "  adding: content/saved_model/captcha_nd_9872/saved_model.pb (deflated 88%)\n",
            "  adding: content/saved_model/captcha_nd_9872/keras_metadata.pb (deflated 91%)\n",
            "  adding: content/saved_model/captcha_nd_9872/variables/ (stored 0%)\n",
            "  adding: content/saved_model/captcha_nd_9872/variables/variables.data-00000-of-00001 (deflated 20%)\n",
            "  adding: content/saved_model/captcha_nd_9872/variables/variables.index (deflated 64%)\n",
            "  adding: content/saved_model/captcha_nd_9872/assets/ (stored 0%)\n",
            "  adding: content/saved_model/captcha_nd_9872/fingerprint.pb (stored 0%)\n"
          ]
        }
      ]
    },
    {
      "cell_type": "code",
      "source": [
        "model.summary()"
      ],
      "metadata": {
        "colab": {
          "base_uri": "https://localhost:8080/"
        },
        "id": "OB_Qy1q33lhK",
        "outputId": "6232b2a7-92d3-40b5-b0df-e60c35e502e8"
      },
      "execution_count": 37,
      "outputs": [
        {
          "output_type": "stream",
          "name": "stdout",
          "text": [
            "Model: \"model_1\"\n",
            "_________________________________________________________________\n",
            " Layer (type)                Output Shape              Param #   \n",
            "=================================================================\n",
            " input_2 (InputLayer)        [(None, 22, 54, 3)]       0         \n",
            "                                                                 \n",
            " conv2d_3 (Conv2D)           (None, 20, 52, 32)        896       \n",
            "                                                                 \n",
            " max_pooling2d_3 (MaxPooling  (None, 10, 26, 32)       0         \n",
            " 2D)                                                             \n",
            "                                                                 \n",
            " conv2d_4 (Conv2D)           (None, 8, 24, 64)         18496     \n",
            "                                                                 \n",
            " max_pooling2d_4 (MaxPooling  (None, 4, 12, 64)        0         \n",
            " 2D)                                                             \n",
            "                                                                 \n",
            " conv2d_5 (Conv2D)           (None, 2, 10, 64)         36928     \n",
            "                                                                 \n",
            " max_pooling2d_5 (MaxPooling  (None, 1, 5, 64)         0         \n",
            " 2D)                                                             \n",
            "                                                                 \n",
            " flatten_1 (Flatten)         (None, 320)               0         \n",
            "                                                                 \n",
            " dense_2 (Dense)             (None, 1024)              328704    \n",
            "                                                                 \n",
            " dense_3 (Dense)             (None, 1024)              1049600   \n",
            "                                                                 \n",
            " reshape_1 (Reshape)         (None, 4, 256)            0         \n",
            "                                                                 \n",
            "=================================================================\n",
            "Total params: 1,434,624\n",
            "Trainable params: 1,434,624\n",
            "Non-trainable params: 0\n",
            "_________________________________________________________________\n"
          ]
        }
      ]
    },
    {
      "cell_type": "code",
      "source": [
        "test_img = Image.open(\"/content/2998.jpg\")\n",
        "# test_img = test_img.resize((24, 54))\n",
        "test_img = np.array(test_img) / 255.0\n",
        "print(test_img.shape)"
      ],
      "metadata": {
        "colab": {
          "base_uri": "https://localhost:8080/"
        },
        "id": "M-o9Wptn4F6j",
        "outputId": "950d06e1-bac5-4cc9-d8e0-bb0aeeb5ed84"
      },
      "execution_count": 54,
      "outputs": [
        {
          "output_type": "stream",
          "name": "stdout",
          "text": [
            "(22, 54, 3)\n"
          ]
        }
      ]
    },
    {
      "cell_type": "code",
      "source": [
        "test_img = test_img[np.newaxis,...]\n",
        "print(test_img.shape)"
      ],
      "metadata": {
        "colab": {
          "base_uri": "https://localhost:8080/"
        },
        "id": "aIm8LYpS8PVB",
        "outputId": "beb9a89d-a4dc-48b3-c86a-82ada6a4bea8"
      },
      "execution_count": 55,
      "outputs": [
        {
          "output_type": "stream",
          "name": "stdout",
          "text": [
            "(1, 22, 54, 3)\n"
          ]
        }
      ]
    },
    {
      "cell_type": "code",
      "source": [
        "test_predi = model.predict(test_img)"
      ],
      "metadata": {
        "colab": {
          "base_uri": "https://localhost:8080/"
        },
        "id": "P-tv89qj6eoN",
        "outputId": "37a11610-cd10-4a11-8060-68b39b57bf60"
      },
      "execution_count": 56,
      "outputs": [
        {
          "output_type": "stream",
          "name": "stdout",
          "text": [
            "1/1 [==============================] - 0s 222ms/step\n"
          ]
        }
      ]
    },
    {
      "cell_type": "code",
      "source": [
        "print(test_predi)"
      ],
      "metadata": {
        "colab": {
          "base_uri": "https://localhost:8080/"
        },
        "id": "jKIBL_aA8lHA",
        "outputId": "7680b7e6-d467-45da-9b6a-39386c20378a"
      },
      "execution_count": 57,
      "outputs": [
        {
          "output_type": "stream",
          "name": "stdout",
          "text": [
            "[[[0. 0. 0. ... 0. 0. 0.]\n",
            "  [0. 0. 0. ... 0. 0. 0.]\n",
            "  [0. 0. 0. ... 0. 0. 0.]\n",
            "  [0. 0. 0. ... 0. 0. 0.]]]\n"
          ]
        }
      ]
    },
    {
      "cell_type": "code",
      "source": [
        "final_pred = tf.math.argmax(test_predi, axis=-1)"
      ],
      "metadata": {
        "id": "KHE8-vcB8nJg"
      },
      "execution_count": 58,
      "outputs": []
    }
  ],
  "metadata": {
    "accelerator": "GPU",
    "colab": {
      "provenance": []
    },
    "gpuClass": "standard",
    "kernelspec": {
      "display_name": "Python 3",
      "language": "python",
      "name": "python3"
    },
    "language_info": {
      "codemirror_mode": {
        "name": "ipython",
        "version": 3
      },
      "file_extension": ".py",
      "mimetype": "text/x-python",
      "name": "python",
      "nbconvert_exporter": "python",
      "pygments_lexer": "ipython3",
      "version": "3.6.9"
    }
  },
  "nbformat": 4,
  "nbformat_minor": 0
}